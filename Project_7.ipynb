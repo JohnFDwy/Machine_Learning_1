{
 "cells": [
  {
   "cell_type": "markdown",
   "metadata": {},
   "source": [
    "# Introduction:\n",
    "\n",
    "Megaline is a mobile provider that is looking to analyze subscribers' behavior and recommend the appropriate plan: Smart or Ultra. In this project I will:\n",
    "\n",
    "1. Import and prepare the data for users' behavior\n",
    "2. Split the data into training, validation, and test sets\n",
    "3. Test various machine learning models and hyperparameters to find the most accurate prediction method\n",
    "4. Assess quality of our model of choice\n",
    "5. Give a general conclusion of our findings"
   ]
  },
  {
   "cell_type": "markdown",
   "metadata": {},
   "source": [
    "## Import and prepare dataset"
   ]
  },
  {
   "cell_type": "code",
   "execution_count": 1,
   "metadata": {},
   "outputs": [],
   "source": [
    "import pandas as pd"
   ]
  },
  {
   "cell_type": "code",
   "execution_count": 2,
   "metadata": {},
   "outputs": [],
   "source": [
    "df = pd.read_csv('/datasets/users_behavior.csv')"
   ]
  },
  {
   "cell_type": "code",
   "execution_count": 3,
   "metadata": {},
   "outputs": [
    {
     "data": {
      "text/html": [
       "<div>\n",
       "<style scoped>\n",
       "    .dataframe tbody tr th:only-of-type {\n",
       "        vertical-align: middle;\n",
       "    }\n",
       "\n",
       "    .dataframe tbody tr th {\n",
       "        vertical-align: top;\n",
       "    }\n",
       "\n",
       "    .dataframe thead th {\n",
       "        text-align: right;\n",
       "    }\n",
       "</style>\n",
       "<table border=\"1\" class=\"dataframe\">\n",
       "  <thead>\n",
       "    <tr style=\"text-align: right;\">\n",
       "      <th></th>\n",
       "      <th>calls</th>\n",
       "      <th>minutes</th>\n",
       "      <th>messages</th>\n",
       "      <th>mb_used</th>\n",
       "      <th>is_ultra</th>\n",
       "    </tr>\n",
       "  </thead>\n",
       "  <tbody>\n",
       "    <tr>\n",
       "      <th>0</th>\n",
       "      <td>40.0</td>\n",
       "      <td>311.90</td>\n",
       "      <td>83.0</td>\n",
       "      <td>19915.42</td>\n",
       "      <td>0</td>\n",
       "    </tr>\n",
       "    <tr>\n",
       "      <th>1</th>\n",
       "      <td>85.0</td>\n",
       "      <td>516.75</td>\n",
       "      <td>56.0</td>\n",
       "      <td>22696.96</td>\n",
       "      <td>0</td>\n",
       "    </tr>\n",
       "    <tr>\n",
       "      <th>2</th>\n",
       "      <td>77.0</td>\n",
       "      <td>467.66</td>\n",
       "      <td>86.0</td>\n",
       "      <td>21060.45</td>\n",
       "      <td>0</td>\n",
       "    </tr>\n",
       "    <tr>\n",
       "      <th>3</th>\n",
       "      <td>106.0</td>\n",
       "      <td>745.53</td>\n",
       "      <td>81.0</td>\n",
       "      <td>8437.39</td>\n",
       "      <td>1</td>\n",
       "    </tr>\n",
       "    <tr>\n",
       "      <th>4</th>\n",
       "      <td>66.0</td>\n",
       "      <td>418.74</td>\n",
       "      <td>1.0</td>\n",
       "      <td>14502.75</td>\n",
       "      <td>0</td>\n",
       "    </tr>\n",
       "  </tbody>\n",
       "</table>\n",
       "</div>"
      ],
      "text/plain": [
       "   calls  minutes  messages   mb_used  is_ultra\n",
       "0   40.0   311.90      83.0  19915.42         0\n",
       "1   85.0   516.75      56.0  22696.96         0\n",
       "2   77.0   467.66      86.0  21060.45         0\n",
       "3  106.0   745.53      81.0   8437.39         1\n",
       "4   66.0   418.74       1.0  14502.75         0"
      ]
     },
     "execution_count": 3,
     "metadata": {},
     "output_type": "execute_result"
    }
   ],
   "source": [
    "df.head(5)"
   ]
  },
  {
   "cell_type": "code",
   "execution_count": 4,
   "metadata": {},
   "outputs": [
    {
     "data": {
      "text/plain": [
       "0"
      ]
     },
     "execution_count": 4,
     "metadata": {},
     "output_type": "execute_result"
    }
   ],
   "source": [
    "df.duplicated().sum()"
   ]
  },
  {
   "cell_type": "code",
   "execution_count": 5,
   "metadata": {},
   "outputs": [
    {
     "data": {
      "text/plain": [
       "calls       0\n",
       "minutes     0\n",
       "messages    0\n",
       "mb_used     0\n",
       "is_ultra    0\n",
       "dtype: int64"
      ]
     },
     "execution_count": 5,
     "metadata": {},
     "output_type": "execute_result"
    }
   ],
   "source": [
    "df.isnull().sum()"
   ]
  },
  {
   "cell_type": "code",
   "execution_count": 6,
   "metadata": {},
   "outputs": [
    {
     "name": "stdout",
     "output_type": "stream",
     "text": [
      "<class 'pandas.core.frame.DataFrame'>\n",
      "RangeIndex: 3214 entries, 0 to 3213\n",
      "Data columns (total 5 columns):\n",
      " #   Column    Non-Null Count  Dtype  \n",
      "---  ------    --------------  -----  \n",
      " 0   calls     3214 non-null   float64\n",
      " 1   minutes   3214 non-null   float64\n",
      " 2   messages  3214 non-null   float64\n",
      " 3   mb_used   3214 non-null   float64\n",
      " 4   is_ultra  3214 non-null   int64  \n",
      "dtypes: float64(4), int64(1)\n",
      "memory usage: 125.7 KB\n"
     ]
    }
   ],
   "source": [
    "df.info()"
   ]
  },
  {
   "cell_type": "markdown",
   "metadata": {},
   "source": [
    "This dataset looks to have no duplicated values, no missing values, and no changes required for datatypes. "
   ]
  },
  {
   "cell_type": "markdown",
   "metadata": {},
   "source": [
    "## Splitting dataset for Training, Validation, and Test"
   ]
  },
  {
   "cell_type": "code",
   "execution_count": 7,
   "metadata": {},
   "outputs": [],
   "source": [
    "from sklearn.model_selection import train_test_split"
   ]
  },
  {
   "cell_type": "code",
   "execution_count": 8,
   "metadata": {},
   "outputs": [],
   "source": [
    "#First the dataset is split into 2 datasets, one for test data and the other to split again for training and validation\n",
    "df_temp, df_test = train_test_split(df, test_size=0.20, random_state=12345)"
   ]
  },
  {
   "cell_type": "code",
   "execution_count": 9,
   "metadata": {},
   "outputs": [
    {
     "name": "stdout",
     "output_type": "stream",
     "text": [
      "(3214, 5)\n",
      "(2571, 5)\n",
      "(643, 5)\n"
     ]
    }
   ],
   "source": [
    "print(df.shape)\n",
    "print(df_temp.shape)\n",
    "print(df_test.shape)"
   ]
  },
  {
   "cell_type": "code",
   "execution_count": 10,
   "metadata": {},
   "outputs": [],
   "source": [
    "#Next, we split the temp data set into 2 sets for training and validation\n",
    "df_train, df_valid = train_test_split(df_temp, test_size=0.25, random_state=12345)"
   ]
  },
  {
   "cell_type": "code",
   "execution_count": 11,
   "metadata": {},
   "outputs": [
    {
     "name": "stdout",
     "output_type": "stream",
     "text": [
      "Training dataset:  (1928, 5)\n",
      "Testing dataset:  (643, 5)\n",
      "Validation dataset:  (643, 5)\n"
     ]
    }
   ],
   "source": [
    "#Verify the Datasets\n",
    "print('Training dataset: ', df_train.shape)\n",
    "print('Testing dataset: ', df_test.shape)\n",
    "print('Validation dataset: ', df_valid.shape)"
   ]
  },
  {
   "cell_type": "code",
   "execution_count": 12,
   "metadata": {},
   "outputs": [],
   "source": [
    "#Create the feature and target datasets\n",
    "\n",
    "#Training datasets:\n",
    "features_train = df_train.drop('is_ultra', axis=1)\n",
    "target_train = df_train['is_ultra']\n",
    "\n",
    "#Validation datasets:\n",
    "features_valid= df_valid.drop(['is_ultra'], axis=1)\n",
    "target_valid= df_valid['is_ultra']\n",
    "\n",
    "#Testing datasets:\n",
    "features_test = df_test.drop(['is_ultra'], axis=1)\n",
    "target_test = df_test['is_ultra']"
   ]
  },
  {
   "cell_type": "markdown",
   "metadata": {},
   "source": [
    "Dataset has been broken up into our training, validation, and test sets of data"
   ]
  },
  {
   "cell_type": "markdown",
   "metadata": {},
   "source": [
    "## Investigation into different models for prediction"
   ]
  },
  {
   "cell_type": "markdown",
   "metadata": {},
   "source": [
    "### Decision Tree"
   ]
  },
  {
   "cell_type": "markdown",
   "metadata": {},
   "source": [
    "Decision Trees generally have a low accuracy and a high processing speed. We will create a decision tree model for our dataset and test the accuracy"
   ]
  },
  {
   "cell_type": "code",
   "execution_count": 13,
   "metadata": {},
   "outputs": [],
   "source": [
    "from sklearn.tree import DecisionTreeClassifier\n",
    "from sklearn.metrics import accuracy_score"
   ]
  },
  {
   "cell_type": "code",
   "execution_count": 14,
   "metadata": {},
   "outputs": [
    {
     "name": "stdout",
     "output_type": "stream",
     "text": [
      "max_depth = 1 : 0.7387247278382582\n",
      "max_depth = 2 : 0.7573872472783826\n",
      "max_depth = 3 : 0.7651632970451011\n",
      "max_depth = 4 : 0.7636080870917574\n",
      "max_depth = 5 : 0.7589424572317263\n"
     ]
    }
   ],
   "source": [
    "for depth in range (1, 6):\n",
    "    dt_model = DecisionTreeClassifier(random_state=12345, max_depth=depth)\n",
    "    dt_model.fit(features_train, target_train)\n",
    "    train_predictions = dt_model.predict(features_train)\n",
    "    valid_predictions = dt_model.predict(features_valid)\n",
    "    print('max_depth =', depth, ': ', end='')\n",
    "    print(accuracy_score(target_valid, valid_predictions))"
   ]
  },
  {
   "cell_type": "markdown",
   "metadata": {},
   "source": [
    "Our model becomes most accurate with a depth of 3 with the accuracy being 77%. The model may be underfitted and we will test other models to improve on our accuracy."
   ]
  },
  {
   "cell_type": "markdown",
   "metadata": {},
   "source": [
    "### Random Forest"
   ]
  },
  {
   "cell_type": "code",
   "execution_count": 15,
   "metadata": {},
   "outputs": [],
   "source": [
    "from sklearn.model_selection import train_test_split\n",
    "from sklearn.ensemble import RandomForestClassifier"
   ]
  },
  {
   "cell_type": "code",
   "execution_count": 16,
   "metadata": {},
   "outputs": [
    {
     "name": "stdout",
     "output_type": "stream",
     "text": [
      "Accuracy of best model on validation set (n_estimators = 20): 0.7900466562986003\n"
     ]
    }
   ],
   "source": [
    "best_score = 0\n",
    "best_est = 0\n",
    "for est in range(1,21):\n",
    "    rf_model = RandomForestClassifier(random_state=12345, n_estimators=est)\n",
    "    rf_model.fit(features_train, target_train)\n",
    "    score = rf_model.score(features_valid, target_valid)\n",
    "    if score > best_score:\n",
    "        best_score = score\n",
    "        best_est= est\n",
    "\n",
    "print('Accuracy of best model on validation set (n_estimators = {}): {}'.format(best_est, best_score))"
   ]
  },
  {
   "cell_type": "markdown",
   "metadata": {},
   "source": [
    "With the Random Forest Model our accuracy improves signicantly with our best number of estimators being 20 and an accuracy of 79%."
   ]
  },
  {
   "cell_type": "markdown",
   "metadata": {},
   "source": [
    "### Logistic Regression"
   ]
  },
  {
   "cell_type": "code",
   "execution_count": 17,
   "metadata": {},
   "outputs": [],
   "source": [
    "from sklearn.linear_model import LogisticRegression"
   ]
  },
  {
   "cell_type": "code",
   "execution_count": 18,
   "metadata": {},
   "outputs": [
    {
     "name": "stdout",
     "output_type": "stream",
     "text": [
      "Accuracy of the logistic regression model on the validation set: 0.7293934681181959\n"
     ]
    }
   ],
   "source": [
    "lr_model = LogisticRegression(random_state=12345, solver='liblinear')\n",
    "lr_model.fit(features_train, target_train)\n",
    "score_train=lr_model.score(features_train, target_train)\n",
    "score_valid=lr_model.score(features_valid, target_valid)\n",
    "\n",
    "print(\n",
    "    \"Accuracy of the logistic regression model on the validation set:\",\n",
    "    score_valid,\n",
    ")"
   ]
  },
  {
   "cell_type": "markdown",
   "metadata": {},
   "source": [
    "Accuracy for the Logistic Regression Model is 72% making it the least accurate of our ML models"
   ]
  },
  {
   "cell_type": "markdown",
   "metadata": {},
   "source": [
    "## Check Quality of Model with Test Set"
   ]
  },
  {
   "cell_type": "markdown",
   "metadata": {},
   "source": [
    "We will now use our test data to see whether our models align with our expectations. According to our training investigation we should expect Random Forrest to be the most accurate."
   ]
  },
  {
   "cell_type": "markdown",
   "metadata": {},
   "source": [
    "### Decision Tree"
   ]
  },
  {
   "cell_type": "code",
   "execution_count": 19,
   "metadata": {},
   "outputs": [],
   "source": [
    "dt_predictions = dt_model.predict(features_test)"
   ]
  },
  {
   "cell_type": "code",
   "execution_count": 20,
   "metadata": {},
   "outputs": [
    {
     "name": "stdout",
     "output_type": "stream",
     "text": [
      "Decision Tree Model Accuracy: 0.7884914463452566\n"
     ]
    }
   ],
   "source": [
    "accuracy = accuracy_score(target_test, dt_predictions)\n",
    "print(\"Decision Tree Model Accuracy:\", accuracy)"
   ]
  },
  {
   "cell_type": "markdown",
   "metadata": {},
   "source": [
    "### Random Forrest"
   ]
  },
  {
   "cell_type": "code",
   "execution_count": 21,
   "metadata": {},
   "outputs": [
    {
     "name": "stdout",
     "output_type": "stream",
     "text": [
      "Random Forest Model Accuracy: 0.7791601866251944\n"
     ]
    }
   ],
   "source": [
    "rf_predictions = rf_model.predict(features_test)  \n",
    "rf_accuracy = accuracy_score(target_test, rf_predictions)\n",
    "print(\"Random Forest Model Accuracy:\", rf_accuracy)"
   ]
  },
  {
   "cell_type": "markdown",
   "metadata": {},
   "source": [
    "### Logistical Regression"
   ]
  },
  {
   "cell_type": "code",
   "execution_count": 22,
   "metadata": {},
   "outputs": [
    {
     "name": "stdout",
     "output_type": "stream",
     "text": [
      "Logistic Regression Model Accuracy: 0.7511664074650077\n"
     ]
    }
   ],
   "source": [
    "lr_predictions = lr_model.predict(features_test)  # replace lr_model with your Logistic Regression model variable\n",
    "lr_accuracy = accuracy_score(target_test, lr_predictions)\n",
    "print(\"Logistic Regression Model Accuracy:\", lr_accuracy)"
   ]
  },
  {
   "cell_type": "markdown",
   "metadata": {},
   "source": [
    "Our expectations were incorrect. During our testing, the Decision Tree model yielded the most accurate predictions instead of the Random Forrest model."
   ]
  },
  {
   "cell_type": "markdown",
   "metadata": {},
   "source": [
    "## Sanity Test"
   ]
  },
  {
   "cell_type": "code",
   "execution_count": 23,
   "metadata": {},
   "outputs": [],
   "source": [
    "from sklearn.metrics import classification_report"
   ]
  },
  {
   "cell_type": "markdown",
   "metadata": {},
   "source": [
    "### Decision Tree"
   ]
  },
  {
   "cell_type": "code",
   "execution_count": 24,
   "metadata": {},
   "outputs": [
    {
     "name": "stdout",
     "output_type": "stream",
     "text": [
      "              precision    recall  f1-score     support\n",
      "0              0.787431  0.953020  0.862348  447.000000\n",
      "1              0.794118  0.413265  0.543624  196.000000\n",
      "accuracy       0.788491  0.788491  0.788491    0.788491\n",
      "macro avg      0.790774  0.683143  0.702986  643.000000\n",
      "weighted avg   0.789469  0.788491  0.765194  643.000000\n"
     ]
    }
   ],
   "source": [
    "report = classification_report(target_test, dt_predictions, output_dict=True)\n",
    "\n",
    "report_df = pd.DataFrame(report).transpose()\n",
    "\n",
    "print(report_df)"
   ]
  },
  {
   "cell_type": "markdown",
   "metadata": {},
   "source": [
    "### Random Forrest"
   ]
  },
  {
   "cell_type": "code",
   "execution_count": 25,
   "metadata": {},
   "outputs": [
    {
     "name": "stdout",
     "output_type": "stream",
     "text": [
      "              precision    recall  f1-score    support\n",
      "0              0.804391  0.901566  0.850211  447.00000\n",
      "1              0.690141  0.500000  0.579882  196.00000\n",
      "accuracy       0.779160  0.779160  0.779160    0.77916\n",
      "macro avg      0.747266  0.700783  0.715046  643.00000\n",
      "weighted avg   0.769565  0.779160  0.767809  643.00000\n"
     ]
    }
   ],
   "source": [
    "report = classification_report(target_test, rf_predictions, output_dict=True)\n",
    "\n",
    "report_df = pd.DataFrame(report).transpose()\n",
    "\n",
    "print(report_df)"
   ]
  },
  {
   "cell_type": "markdown",
   "metadata": {},
   "source": [
    "### Logistical Regression"
   ]
  },
  {
   "cell_type": "code",
   "execution_count": 26,
   "metadata": {},
   "outputs": [
    {
     "name": "stdout",
     "output_type": "stream",
     "text": [
      "              precision    recall  f1-score     support\n",
      "0              0.738769  0.993289  0.847328  447.000000\n",
      "1              0.928571  0.198980  0.327731  196.000000\n",
      "accuracy       0.751166  0.751166  0.751166    0.751166\n",
      "macro avg      0.833670  0.596134  0.587530  643.000000\n",
      "weighted avg   0.796625  0.751166  0.688944  643.000000\n"
     ]
    }
   ],
   "source": [
    "report = classification_report(target_test, lr_predictions, output_dict=True)\n",
    "\n",
    "report_df = pd.DataFrame(report).transpose()\n",
    "\n",
    "print(report_df)"
   ]
  },
  {
   "cell_type": "markdown",
   "metadata": {},
   "source": [
    "## Conclusion"
   ]
  },
  {
   "cell_type": "markdown",
   "metadata": {},
   "source": [
    "In this report we have broken down the dataset into training, validation, and testing datasets at a 3:1:1 ratio to design 3 ML models in order to find a means to make predictions about consumer behavior. \n",
    "\n",
    "We created and trained 3 models: Decision Tree, Random Forrest, and Logistical Regression to determine whether buyers will likely purchase the Ultra plan from Megaline.\n",
    "\n",
    "We have found that although the Random Forrest model would yield the most accurate predictions based on our training of the model, the test sample showed that the Decision Tree model had the highest accuracy at 79%, followed by Decision Tree at 78% accuracy rating. \n",
    "\n",
    "For this reason, the Decision Tree model appears to be the most useful model for Megaline to use as a tool to measure the liklihood of buyers choosing the Ultra plan."
   ]
  },
  {
   "cell_type": "code",
   "execution_count": null,
   "metadata": {},
   "outputs": [],
   "source": []
  }
 ],
 "metadata": {
  "ExecuteTimeLog": [
   {
    "duration": 465,
    "start_time": "2024-07-15T20:41:13.229Z"
   },
   {
    "duration": 22,
    "start_time": "2024-07-15T20:41:47.099Z"
   },
   {
    "duration": 26,
    "start_time": "2024-07-15T20:41:53.353Z"
   },
   {
    "duration": 12,
    "start_time": "2024-07-15T20:43:02.257Z"
   },
   {
    "duration": 18,
    "start_time": "2024-07-15T20:43:15.482Z"
   },
   {
    "duration": 12,
    "start_time": "2024-07-15T20:52:31.725Z"
   },
   {
    "duration": 6,
    "start_time": "2024-07-15T20:56:54.510Z"
   },
   {
    "duration": 5,
    "start_time": "2024-07-15T21:11:14.968Z"
   },
   {
    "duration": 8,
    "start_time": "2024-07-15T21:12:09.100Z"
   },
   {
    "duration": 5,
    "start_time": "2024-07-15T21:15:38.560Z"
   },
   {
    "duration": 6,
    "start_time": "2024-07-15T21:17:17.803Z"
   },
   {
    "duration": 7,
    "start_time": "2024-07-15T21:22:00.802Z"
   },
   {
    "duration": 6,
    "start_time": "2024-07-15T21:22:01.116Z"
   },
   {
    "duration": 8,
    "start_time": "2024-07-15T22:05:13.231Z"
   },
   {
    "duration": 6,
    "start_time": "2024-07-15T22:05:20.145Z"
   },
   {
    "duration": 7,
    "start_time": "2024-07-15T22:06:24.701Z"
   },
   {
    "duration": 9,
    "start_time": "2024-07-15T22:07:37.227Z"
   },
   {
    "duration": 5,
    "start_time": "2024-07-15T22:10:51.810Z"
   },
   {
    "duration": 6,
    "start_time": "2024-07-15T22:15:56.924Z"
   },
   {
    "duration": 8,
    "start_time": "2024-07-15T22:16:20.601Z"
   },
   {
    "duration": 7,
    "start_time": "2024-07-15T22:16:38.463Z"
   },
   {
    "duration": 9,
    "start_time": "2024-07-15T22:19:07.089Z"
   },
   {
    "duration": 5,
    "start_time": "2024-07-15T22:21:39.287Z"
   },
   {
    "duration": 312,
    "start_time": "2024-07-16T16:24:49.217Z"
   },
   {
    "duration": 494,
    "start_time": "2024-07-16T16:24:57.089Z"
   },
   {
    "duration": 16,
    "start_time": "2024-07-16T16:24:57.586Z"
   },
   {
    "duration": 20,
    "start_time": "2024-07-16T16:24:57.604Z"
   },
   {
    "duration": 11,
    "start_time": "2024-07-16T16:24:57.627Z"
   },
   {
    "duration": 8,
    "start_time": "2024-07-16T16:24:57.642Z"
   },
   {
    "duration": 62,
    "start_time": "2024-07-16T16:24:57.654Z"
   },
   {
    "duration": 731,
    "start_time": "2024-07-16T16:24:57.719Z"
   },
   {
    "duration": 9,
    "start_time": "2024-07-16T16:24:58.454Z"
   },
   {
    "duration": 6,
    "start_time": "2024-07-16T16:24:58.466Z"
   },
   {
    "duration": 33,
    "start_time": "2024-07-16T16:24:58.476Z"
   },
   {
    "duration": 5,
    "start_time": "2024-07-16T16:24:58.513Z"
   },
   {
    "duration": 12,
    "start_time": "2024-07-16T16:24:58.521Z"
   },
   {
    "duration": 428,
    "start_time": "2024-07-16T16:24:58.540Z"
   },
   {
    "duration": 22,
    "start_time": "2024-07-16T16:25:29.621Z"
   },
   {
    "duration": 24,
    "start_time": "2024-07-16T16:25:30.313Z"
   },
   {
    "duration": 57,
    "start_time": "2024-07-16T16:25:35.497Z"
   },
   {
    "duration": 4,
    "start_time": "2024-07-16T16:25:36.145Z"
   },
   {
    "duration": 31,
    "start_time": "2024-07-16T16:26:05.087Z"
   },
   {
    "duration": 26,
    "start_time": "2024-07-16T16:26:23.239Z"
   },
   {
    "duration": 24,
    "start_time": "2024-07-16T16:27:45.744Z"
   },
   {
    "duration": 6,
    "start_time": "2024-07-16T16:27:53.712Z"
   },
   {
    "duration": 717,
    "start_time": "2024-07-16T16:31:34.671Z"
   },
   {
    "duration": 24,
    "start_time": "2024-07-16T16:40:36.313Z"
   },
   {
    "duration": 4,
    "start_time": "2024-07-16T16:40:57.223Z"
   },
   {
    "duration": 28,
    "start_time": "2024-07-16T17:27:56.734Z"
   },
   {
    "duration": 458,
    "start_time": "2024-07-16T17:28:07.169Z"
   },
   {
    "duration": 13,
    "start_time": "2024-07-16T17:28:07.630Z"
   },
   {
    "duration": 21,
    "start_time": "2024-07-16T17:28:07.646Z"
   },
   {
    "duration": 38,
    "start_time": "2024-07-16T17:28:07.671Z"
   },
   {
    "duration": 9,
    "start_time": "2024-07-16T17:28:07.712Z"
   },
   {
    "duration": 16,
    "start_time": "2024-07-16T17:28:07.724Z"
   },
   {
    "duration": 818,
    "start_time": "2024-07-16T17:28:07.743Z"
   },
   {
    "duration": 9,
    "start_time": "2024-07-16T17:28:08.565Z"
   },
   {
    "duration": 5,
    "start_time": "2024-07-16T17:28:08.582Z"
   },
   {
    "duration": 6,
    "start_time": "2024-07-16T17:28:08.611Z"
   },
   {
    "duration": 6,
    "start_time": "2024-07-16T17:28:08.621Z"
   },
   {
    "duration": 14,
    "start_time": "2024-07-16T17:28:08.631Z"
   },
   {
    "duration": 91,
    "start_time": "2024-07-16T17:28:08.648Z"
   },
   {
    "duration": 426,
    "start_time": "2024-07-16T17:28:08.745Z"
   },
   {
    "duration": 29,
    "start_time": "2024-07-16T17:28:32.305Z"
   },
   {
    "duration": 28,
    "start_time": "2024-07-16T17:29:59.065Z"
   },
   {
    "duration": 128,
    "start_time": "2024-07-16T17:31:04.790Z"
   },
   {
    "duration": 51,
    "start_time": "2024-07-16T17:31:17.421Z"
   },
   {
    "duration": 923,
    "start_time": "2024-07-17T01:27:10.841Z"
   },
   {
    "duration": 4,
    "start_time": "2024-07-17T01:31:14.137Z"
   },
   {
    "duration": 9,
    "start_time": "2024-07-17T01:31:32.672Z"
   },
   {
    "duration": 387,
    "start_time": "2024-07-17T01:31:46.399Z"
   },
   {
    "duration": 109,
    "start_time": "2024-07-17T01:32:27.965Z"
   },
   {
    "duration": 38,
    "start_time": "2024-07-17T01:32:28.431Z"
   },
   {
    "duration": 453,
    "start_time": "2024-07-17T01:32:54.349Z"
   },
   {
    "duration": 18,
    "start_time": "2024-07-17T01:32:54.807Z"
   },
   {
    "duration": 22,
    "start_time": "2024-07-17T01:32:54.828Z"
   },
   {
    "duration": 12,
    "start_time": "2024-07-17T01:32:54.853Z"
   },
   {
    "duration": 38,
    "start_time": "2024-07-17T01:32:54.871Z"
   },
   {
    "duration": 17,
    "start_time": "2024-07-17T01:32:54.913Z"
   },
   {
    "duration": 765,
    "start_time": "2024-07-17T01:32:54.933Z"
   },
   {
    "duration": 10,
    "start_time": "2024-07-17T01:32:55.701Z"
   },
   {
    "duration": 5,
    "start_time": "2024-07-17T01:32:55.714Z"
   },
   {
    "duration": 7,
    "start_time": "2024-07-17T01:32:55.723Z"
   },
   {
    "duration": 6,
    "start_time": "2024-07-17T01:32:55.733Z"
   },
   {
    "duration": 10,
    "start_time": "2024-07-17T01:32:55.742Z"
   },
   {
    "duration": 47,
    "start_time": "2024-07-17T01:32:55.802Z"
   },
   {
    "duration": 76,
    "start_time": "2024-07-17T01:32:55.854Z"
   },
   {
    "duration": 15,
    "start_time": "2024-07-17T01:32:55.933Z"
   },
   {
    "duration": 500,
    "start_time": "2024-07-17T01:32:55.951Z"
   },
   {
    "duration": 43,
    "start_time": "2024-07-17T01:33:13.916Z"
   },
   {
    "duration": 470,
    "start_time": "2024-07-17T01:34:26.218Z"
   },
   {
    "duration": 452,
    "start_time": "2024-07-17T01:38:00.972Z"
   },
   {
    "duration": 469,
    "start_time": "2024-07-17T01:38:24.816Z"
   },
   {
    "duration": 384,
    "start_time": "2024-07-17T01:38:42.843Z"
   },
   {
    "duration": 465,
    "start_time": "2024-07-17T01:38:51.677Z"
   },
   {
    "duration": 6168,
    "start_time": "2024-07-17T01:40:50.962Z"
   },
   {
    "duration": 2273,
    "start_time": "2024-07-17T01:41:16.081Z"
   },
   {
    "duration": 408,
    "start_time": "2024-07-17T01:43:14.857Z"
   },
   {
    "duration": 4,
    "start_time": "2024-07-17T01:46:53.628Z"
   },
   {
    "duration": 467,
    "start_time": "2024-07-17T01:46:54.039Z"
   },
   {
    "duration": 1662,
    "start_time": "2024-07-17T01:51:07.756Z"
   },
   {
    "duration": 3,
    "start_time": "2024-07-17T01:54:38.362Z"
   },
   {
    "duration": 40,
    "start_time": "2024-07-17T01:57:31.727Z"
   },
   {
    "duration": 22,
    "start_time": "2024-07-17T01:57:36.606Z"
   },
   {
    "duration": 21,
    "start_time": "2024-07-17T01:59:34.151Z"
   },
   {
    "duration": 3,
    "start_time": "2024-07-17T02:13:44.691Z"
   },
   {
    "duration": 1311,
    "start_time": "2024-07-17T02:13:45.624Z"
   },
   {
    "duration": 319,
    "start_time": "2024-07-17T19:33:45.344Z"
   },
   {
    "duration": 29,
    "start_time": "2024-07-17T19:33:56.144Z"
   },
   {
    "duration": 469,
    "start_time": "2024-07-17T19:34:04.165Z"
   },
   {
    "duration": 24,
    "start_time": "2024-07-17T19:34:04.638Z"
   },
   {
    "duration": 23,
    "start_time": "2024-07-17T19:34:04.665Z"
   },
   {
    "duration": 11,
    "start_time": "2024-07-17T19:34:04.693Z"
   },
   {
    "duration": 31,
    "start_time": "2024-07-17T19:34:04.707Z"
   },
   {
    "duration": 17,
    "start_time": "2024-07-17T19:34:04.742Z"
   },
   {
    "duration": 826,
    "start_time": "2024-07-17T19:34:04.762Z"
   },
   {
    "duration": 8,
    "start_time": "2024-07-17T19:34:05.591Z"
   },
   {
    "duration": 5,
    "start_time": "2024-07-17T19:34:05.606Z"
   },
   {
    "duration": 11,
    "start_time": "2024-07-17T19:34:05.634Z"
   },
   {
    "duration": 6,
    "start_time": "2024-07-17T19:34:05.652Z"
   },
   {
    "duration": 11,
    "start_time": "2024-07-17T19:34:05.662Z"
   },
   {
    "duration": 86,
    "start_time": "2024-07-17T19:34:05.676Z"
   },
   {
    "duration": 73,
    "start_time": "2024-07-17T19:34:05.765Z"
   },
   {
    "duration": 16,
    "start_time": "2024-07-17T19:34:05.841Z"
   },
   {
    "duration": 1347,
    "start_time": "2024-07-17T19:34:05.861Z"
   },
   {
    "duration": 4,
    "start_time": "2024-07-17T19:34:07.212Z"
   },
   {
    "duration": 23,
    "start_time": "2024-07-17T19:34:07.232Z"
   },
   {
    "duration": 11,
    "start_time": "2024-07-17T19:34:07.259Z"
   },
   {
    "duration": 8,
    "start_time": "2024-07-17T19:39:06.679Z"
   },
   {
    "duration": 6,
    "start_time": "2024-07-17T19:39:34.104Z"
   },
   {
    "duration": 12,
    "start_time": "2024-07-17T19:40:59.497Z"
   },
   {
    "duration": 10,
    "start_time": "2024-07-17T19:42:04.110Z"
   },
   {
    "duration": 436,
    "start_time": "2024-07-17T19:56:59.883Z"
   },
   {
    "duration": 3,
    "start_time": "2024-07-17T19:57:25.264Z"
   },
   {
    "duration": 24,
    "start_time": "2024-07-17T19:57:25.673Z"
   },
   {
    "duration": 14,
    "start_time": "2024-07-17T19:57:36.518Z"
   },
   {
    "duration": 17,
    "start_time": "2024-07-17T20:02:26.115Z"
   },
   {
    "duration": 15,
    "start_time": "2024-07-17T20:03:55.325Z"
   },
   {
    "duration": 16,
    "start_time": "2024-07-17T20:04:19.650Z"
   },
   {
    "duration": 448,
    "start_time": "2024-07-18T04:26:53.035Z"
   },
   {
    "duration": 15,
    "start_time": "2024-07-18T04:26:53.489Z"
   },
   {
    "duration": 22,
    "start_time": "2024-07-18T04:26:53.506Z"
   },
   {
    "duration": 12,
    "start_time": "2024-07-18T04:26:53.532Z"
   },
   {
    "duration": 54,
    "start_time": "2024-07-18T04:26:53.548Z"
   },
   {
    "duration": 18,
    "start_time": "2024-07-18T04:26:53.606Z"
   },
   {
    "duration": 718,
    "start_time": "2024-07-18T04:26:53.627Z"
   },
   {
    "duration": 7,
    "start_time": "2024-07-18T04:26:54.348Z"
   },
   {
    "duration": 5,
    "start_time": "2024-07-18T04:26:54.360Z"
   },
   {
    "duration": 6,
    "start_time": "2024-07-18T04:26:54.371Z"
   },
   {
    "duration": 6,
    "start_time": "2024-07-18T04:26:54.403Z"
   },
   {
    "duration": 11,
    "start_time": "2024-07-18T04:26:54.413Z"
   },
   {
    "duration": 74,
    "start_time": "2024-07-18T04:26:54.427Z"
   },
   {
    "duration": 51,
    "start_time": "2024-07-18T04:26:54.504Z"
   },
   {
    "duration": 14,
    "start_time": "2024-07-18T04:26:54.558Z"
   },
   {
    "duration": 1329,
    "start_time": "2024-07-18T04:26:54.575Z"
   },
   {
    "duration": 7,
    "start_time": "2024-07-18T04:26:55.907Z"
   },
   {
    "duration": 23,
    "start_time": "2024-07-18T04:26:55.918Z"
   },
   {
    "duration": 7,
    "start_time": "2024-07-18T04:26:55.947Z"
   },
   {
    "duration": 40,
    "start_time": "2024-07-18T04:26:55.962Z"
   },
   {
    "duration": 13,
    "start_time": "2024-07-18T04:26:56.006Z"
   },
   {
    "duration": 9,
    "start_time": "2024-07-18T04:26:56.023Z"
   },
   {
    "duration": 4,
    "start_time": "2024-07-18T04:26:56.035Z"
   },
   {
    "duration": 70,
    "start_time": "2024-07-18T04:26:56.043Z"
   },
   {
    "duration": 22,
    "start_time": "2024-07-18T04:26:56.118Z"
   },
   {
    "duration": 19,
    "start_time": "2024-07-18T04:26:56.143Z"
   }
  ],
  "kernelspec": {
   "display_name": "Python 3 (ipykernel)",
   "language": "python",
   "name": "python3"
  },
  "language_info": {
   "codemirror_mode": {
    "name": "ipython",
    "version": 3
   },
   "file_extension": ".py",
   "mimetype": "text/x-python",
   "name": "python",
   "nbconvert_exporter": "python",
   "pygments_lexer": "ipython3",
   "version": "3.9.19"
  },
  "toc": {
   "base_numbering": 1,
   "nav_menu": {},
   "number_sections": true,
   "sideBar": true,
   "skip_h1_title": true,
   "title_cell": "Table of Contents",
   "title_sidebar": "Contents",
   "toc_cell": false,
   "toc_position": {},
   "toc_section_display": true,
   "toc_window_display": true
  }
 },
 "nbformat": 4,
 "nbformat_minor": 2
}
